{
 "cells": [
  {
   "cell_type": "markdown",
   "id": "bd2f2361-11ce-4780-888c-11b04b52cb75",
   "metadata": {},
   "source": [
    "Week 1\n",
    "1. [Course link](https://www.coursera.org/learn/machine-learning-linear-algebra/home/week/1)\n",
    "1. Non-singular (unique solution) vs Singular ("
   ]
  },
  {
   "cell_type": "code",
   "execution_count": null,
   "id": "3d5b33d8-d010-45b9-a0ca-4ff255cfbedf",
   "metadata": {},
   "outputs": [],
   "source": []
  }
 ],
 "metadata": {
  "kernelspec": {
   "display_name": "Python 3 (ipykernel)",
   "language": "python",
   "name": "python3"
  },
  "language_info": {
   "codemirror_mode": {
    "name": "ipython",
    "version": 3
   },
   "file_extension": ".py",
   "mimetype": "text/x-python",
   "name": "python",
   "nbconvert_exporter": "python",
   "pygments_lexer": "ipython3",
   "version": "3.10.2"
  }
 },
 "nbformat": 4,
 "nbformat_minor": 5
}
