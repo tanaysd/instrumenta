{
 "cells": [
  {
   "cell_type": "markdown",
   "id": "15271e69-bb25-4e56-9f2f-9fa38da68ddd",
   "metadata": {},
   "source": [
    "## Table of contents\n",
    "1. [Tutorial](https://realpython.com/python-property/)\n",
    "1. In this tutorial, I’ll learn how to:\n",
    "    - a. Create managed attributes or properties in your classes\n",
    "    - b. Perform lazy attribute evaluation and provide computed attributes\n",
    "    - c. Avoid setter and getter methods to make your classes more Pythonic\n",
    "    - d. Create read-only, read-write, and write-only properties\n",
    "    - e. Create consistent and backward-compatible APIs for your classes\n",
    "1. [Notes - 1](#Notes---1)\n",
    "1. [Notes - 2](#Notes---2)\n",
    "1. [Notes - 3](#Notes---3)\n",
    "1. [Notes - 4](#Notes---4)\n",
    "1. [Notes - 5](#Notes---5)\n",
    "1. [Notes - 6](#Notes---6)\n",
    "1. [Notes - 7](#Notes---7)\n",
    "1. [Descriptors](https://realpython.com/python-descriptors/)"
   ]
  },
  {
   "cell_type": "markdown",
   "id": "2086e327-733b-47f7-a05e-1622c5bd02df",
   "metadata": {},
   "source": [
    "### Notes - 1\n",
    "\n",
    "1. use managed attributes, also known as properties, when you need to modify their internal implementation without changing the public API of the class.\n",
    "1. Properties are arguably the most popular way to create managed attributes quickly and in the purest Pythonic style.\n",
    "1. Attributes represent or hold the internal state of a given object, which you’ll often need to access and mutate.\n",
    "1. at least two ways to manage an attribute. \n",
    "    - Either you can access and mutate the attribute directly or you can use methods. \n",
    "    - Methods are functions attached to a given class. They provide the behaviors and actions that an object can perform with its internal data and attributes.\n",
    "1. If you expose your attributes to the user, then they become part of the public API of your classes. Your user will access and mutate them directly in their code. The problem comes when you need to change the internal implementation of a given attribute.\n",
    "    - Say you’re working on a Circle class. The initial implementation has a single attribute called .radius. You finish coding the class and make it available to your end users. They start using Circle in their code to create a lot of awesome projects and applications.\n",
    "    - Now suppose that you have an important user that comes to you with a new requirement. They don’t want Circle to store the radius any longer. They need a public .diameter attribute.\n",
    "    - At this point, removing .radius to start using .diameter could break the code of some of your end users. You need to manage this situation in a way other than removing .radius.```\n",
    "1. Programming languages such as Java and C++ encourage you to never expose your attributes to avoid this kind of problem. \n",
    "    - Instead, you should provide getter and setter methods, also known as accessors and mutators, respectively. \n",
    "    - These methods offer a way to change the internal implementation of your attributes without changing your public API."
   ]
  },
  {
   "cell_type": "code",
   "execution_count": null,
   "id": "d06d59e1-c197-4d32-bf79-1e70406b6dcb",
   "metadata": {},
   "outputs": [],
   "source": [
    "%%writefile point.py\n",
    "\n",
    "class Point:\n",
    "    def __init__(self, x, y):\n",
    "        self._x = x\n",
    "        self._y = y\n",
    "\n",
    "    def get_x(self):\n",
    "        return self._x\n",
    "\n",
    "    def set_x(self, value):\n",
    "        self._x = value\n",
    "\n",
    "    def get_y(self):\n",
    "        return self._y\n",
    "\n",
    "    def set_y(self, value):\n",
    "        self._y = value"
   ]
  },
  {
   "cell_type": "code",
   "execution_count": null,
   "id": "c39ee753-f904-4751-9640-d1bb0ecf24cd",
   "metadata": {},
   "outputs": [],
   "source": [
    "from point import Point\n",
    "\n",
    "point = Point(12, 15)"
   ]
  },
  {
   "cell_type": "code",
   "execution_count": null,
   "id": "139bdbdb-144b-4204-b016-e721f395135a",
   "metadata": {},
   "outputs": [],
   "source": [
    "point.get_x()"
   ]
  },
  {
   "cell_type": "code",
   "execution_count": null,
   "id": "395fd661-e310-4a20-a7db-4106dbe0aec2",
   "metadata": {},
   "outputs": [],
   "source": [
    "point.set_x(15)\n",
    "\n",
    "point.get_x()"
   ]
  },
  {
   "cell_type": "code",
   "execution_count": null,
   "id": "e81bd7ab-517b-4e95-8521-6664f9158e7d",
   "metadata": {},
   "outputs": [],
   "source": [
    "%%writefile point1.py\n",
    "\n",
    "class Point:\n",
    "    def __init__(self, x, y):\n",
    "        self.x = x\n",
    "        self.y = y"
   ]
  },
  {
   "cell_type": "code",
   "execution_count": null,
   "id": "f12fcc5c-a7b9-4232-8967-c4fd162cd051",
   "metadata": {},
   "outputs": [],
   "source": [
    "from point1 import Point\n",
    "\n",
    "point1 = Point(12, 18)"
   ]
  },
  {
   "cell_type": "code",
   "execution_count": null,
   "id": "58f74a4d-a210-48fb-baae-0425cdacfae5",
   "metadata": {},
   "outputs": [],
   "source": [
    "point1.x, point1.y"
   ]
  },
  {
   "cell_type": "code",
   "execution_count": null,
   "id": "afc186f4-c418-4472-a8df-043348dfccca",
   "metadata": {},
   "outputs": [],
   "source": [
    "point1.x = 42\n",
    "\n",
    "point1.x, point1.y"
   ]
  },
  {
   "cell_type": "markdown",
   "id": "ac864f81-47e5-42ef-aa5e-84b1f83381e5",
   "metadata": {},
   "source": [
    "### Notes - 2\n",
    "1. Exposing attributes to the end user is normal and common in Python. \n",
    "    - You don’t need to clutter your classes with getter and setter methods all the time, which sounds pretty cool! \n",
    "    - However, how can you handle requirement changes that would seem to involve API changes?\n",
    "    - Unlike Java and C++, Python provides handy tools that allow you to change the underlying implementation of your attributes without changing your public API. \n",
    "    - The most popular approach is to turn your attributes into properties.\n",
    "    - Another common approach to provide managed attributes is to use [descriptors](https://realpython.com/python-descriptors/).\n",
    "1. Properties represent an intermediate functionality between a plain attribute (or field) and a method. \n",
    "    - In other words, they allow you to create methods that behave like attributes. \n",
    "    - With properties, computation of the target attribute can be changed as required.\n",
    "1. The main advantage of Python properties is that they allow you to expose your attributes as part of your public API. \n",
    "    - If you ever need to change the underlying implementation, then you can turn the attribute into a property at any time without much pain."
   ]
  },
  {
   "cell_type": "markdown",
   "id": "acc995ad-18c3-46dd-bf31-aa1be54da0f4",
   "metadata": {},
   "source": [
    "### Notes - 3"
   ]
  },
  {
   "cell_type": "markdown",
   "id": "bb9a6ec4-5a4f-4580-aaf2-f58505c3b20f",
   "metadata": {},
   "source": [
    "1. [Getting started with property](https://realpython.com/python-property/#getting-started-with-pythons-property)\n",
    "1. Python’s property() is the Pythonic way to avoid formal getter and setter methods in your code. \n",
    "    - This function allows you to turn `class attributes` into properties or managed attributes.\n",
    "    - `property(fget=None, fset=None, fdel=None, doc=None)`\n",
    "    - You can use property() either as a function or a decorator to build your properties\n",
    "    - _decorator approach is more popular in the Python community._\n",
    "    - Properties are class attributes that manage instance attributes. \n",
    "    - You can think of a property as a collection of methods bundled together. "
   ]
  },
  {
   "cell_type": "code",
   "execution_count": null,
   "id": "69490752-2e98-41b1-8056-15117a5cd395",
   "metadata": {},
   "outputs": [],
   "source": [
    "%%writefile circle.py\n",
    "\n",
    "class Circle:\n",
    "    def __init__(self, radius):\n",
    "        \"\"\"\n",
    "        The following example shows how to create a Circle class with a handy property to manage its radius\n",
    "        \n",
    "        In this code snippet, you create Circle. The class initializer, .__init__(), takes radius as an argument and stores it in a non-public attribute called ._radius. Then you define three non-public methods:\n",
    "\n",
    "        ._get_radius() returns the current value of ._radius\n",
    "        ._set_radius() takes value as an argument and assigns it to ._radius\n",
    "        ._del_radius() deletes the instance attribute ._radius\n",
    "        Once you have these three methods in place, you create a class attribute called .radius to store the property object. \n",
    "        To initialize the property, you pass the three methods as arguments to property(). You also pass a suitable docstring for your property.\n",
    "        \"\"\"\n",
    "        self._radius = radius\n",
    "        \n",
    "    def _get_radius(self):\n",
    "        print(\"Get radius\")\n",
    "        return self._radius\n",
    "    \n",
    "    def _set_radius(self, value):\n",
    "        print(\"Setting radius\")\n",
    "        self._radius = value\n",
    "        \n",
    "    def _del_radius(self):\n",
    "        print(\"Deleting radius\")\n",
    "        del self._radius\n",
    "        \n",
    "    radius = property(\n",
    "        fget=_get_radius,\n",
    "        fset=_set_radius,\n",
    "        fdel=_del_radius,\n",
    "        doc=\"The radius property\")\n"
   ]
  },
  {
   "cell_type": "code",
   "execution_count": null,
   "id": "10f0191c-3453-4f70-ac56-b893c983a307",
   "metadata": {},
   "outputs": [],
   "source": [
    "from circle import Circle"
   ]
  },
  {
   "cell_type": "code",
   "execution_count": null,
   "id": "8592e860-9a25-4748-9313-31caab53c251",
   "metadata": {},
   "outputs": [],
   "source": [
    "circle = Circle(42)"
   ]
  },
  {
   "cell_type": "code",
   "execution_count": null,
   "id": "408be43b-c846-4023-811c-9c65e45236e2",
   "metadata": {},
   "outputs": [],
   "source": [
    "circle.radius"
   ]
  },
  {
   "cell_type": "code",
   "execution_count": null,
   "id": "a6cefdbd-fdae-4f2e-a8a3-04f57d2ca408",
   "metadata": {},
   "outputs": [],
   "source": [
    "circle.radius = 84"
   ]
  },
  {
   "cell_type": "markdown",
   "id": "9b1ecfad-19e8-4ee3-8cda-313e933587e8",
   "metadata": {},
   "source": [
    "### Notes - 4\n",
    "1. [Property as a decorator](https://realpython.com/python-property/#using-property-as-a-decorator)\n",
    "1. Decorators are functions that take another function as an argument and return a new function with added functionality. \n",
    "    - With a decorator, you can attach pre- and post-processing operations to an existing function."
   ]
  },
  {
   "cell_type": "code",
   "execution_count": null,
   "id": "0145530d-9911-4d72-8bf7-a3f6196b07bf",
   "metadata": {},
   "outputs": [],
   "source": [
    "%%writefile circle1.py\n",
    "\n",
    "class Circle:\n",
    "    def __init__(self, radius):\n",
    "        \"\"\"\n",
    "        Now you have three methods with the same clean and descriptive attribute-like name. How is that possible?\n",
    "\n",
    "        The decorator approach for creating properties requires defining a first method using the public name for the underlying managed attribute, which is .radius in this case.\n",
    "        \"\"\"\n",
    "        self._radius = radius\n",
    "        \n",
    "    @property\n",
    "    def radius(self):\n",
    "        \"\"\" The radius property.\"\"\"\n",
    "        print(\"Get radius\")\n",
    "        return self._radius\n",
    "    \n",
    "    @radius.setter\n",
    "    def radius(self, value):\n",
    "        print(\"Setting radius\")\n",
    "        self._radius = value\n",
    "    \n",
    "    @radius.deleter\n",
    "    def radius(self):\n",
    "        print(\"Deleting radius\")\n",
    "        del self._radius\n",
    "        \n",
    "    @property\n",
    "    def area(self):\n",
    "        import math\n",
    "        pi = math.pi\n",
    "        return float(round(pi * self._radius ** 2), 3)"
   ]
  },
  {
   "cell_type": "code",
   "execution_count": null,
   "id": "19dbf897-9206-42cb-a873-f1bd9d2014e3",
   "metadata": {},
   "outputs": [],
   "source": [
    "from circle1 import Circle"
   ]
  },
  {
   "cell_type": "code",
   "execution_count": null,
   "id": "71d6e53e-988c-4d6a-8659-e9b3d0be6df4",
   "metadata": {},
   "outputs": [],
   "source": [
    "circle1 = Circle(42)"
   ]
  },
  {
   "cell_type": "code",
   "execution_count": null,
   "id": "c5363329-e533-4113-8d8b-81cb7dc020c7",
   "metadata": {},
   "outputs": [],
   "source": [
    "circle1.area"
   ]
  },
  {
   "cell_type": "markdown",
   "id": "e37e0fed-8d64-4019-9185-cd7c159d5d21",
   "metadata": {},
   "source": [
    "### Notes - 5\n",
    "\n",
    "1. You don’t need to use a pair of parentheses for calling `.radius()` as a method. \n",
    "    - Instead, you can access `.radius` as you would access a regular attribute, which is the primary use of properties. \n",
    "    - They allow you to treat methods as attributes, and they take care of calling the underlying set of methods automatically.\n",
    "1. Here’s a recap of some important points to remember when you’re creating properties with the decorator approach:\n",
    "    - The @property decorator must decorate the getter method.\n",
    "    - The docstring must go in the getter method.\n",
    "    - The setter and deleter methods must be decorated with the name of the getter method plus .setter and .deleter, respectively."
   ]
  },
  {
   "cell_type": "markdown",
   "id": "18c79fb9-c6d0-4ca5-8bda-d6568bb5c6ea",
   "metadata": {},
   "source": [
    "### Notes - 6\n",
    "1. [Read-only Attributes](https://realpython.com/python-property/#providing-read-only-attributes)\n",
    "1. Probably the most elementary use case of property() is to provide read-only attributes in your classes.\n",
    "1. [Read-Write Attributes](https://realpython.com/python-property/#creating-read-write-attributes)\n",
    "1. [Write-only attributes](https://realpython.com/python-property/#providing-write-only-attributes)\n"
   ]
  },
  {
   "cell_type": "code",
   "execution_count": null,
   "id": "09699454-3a8a-4644-bd96-3791531692ab",
   "metadata": {},
   "outputs": [],
   "source": [
    "%%writefile point2.py\n",
    "\n",
    "class Point:\n",
    "    def __init__(self, x, y):\n",
    "        self._x = x\n",
    "        self._y = y\n",
    "\n",
    "    @property\n",
    "    def x(self):\n",
    "        return self._x\n",
    "\n",
    "    @property\n",
    "    def y(self):\n",
    "        return self._y"
   ]
  },
  {
   "cell_type": "code",
   "execution_count": null,
   "id": "31590891-73c7-4fae-961b-731919c26d48",
   "metadata": {},
   "outputs": [],
   "source": [
    "from point2 import Point"
   ]
  },
  {
   "cell_type": "code",
   "execution_count": null,
   "id": "93388813-b996-4823-9b99-c4612bd61179",
   "metadata": {},
   "outputs": [],
   "source": [
    "point2 = Point(12, 18)"
   ]
  },
  {
   "cell_type": "code",
   "execution_count": null,
   "id": "c8ca72ea-2bb8-4526-b1f0-607f736520b7",
   "metadata": {},
   "outputs": [],
   "source": [
    "point2.x = 18"
   ]
  },
  {
   "cell_type": "code",
   "execution_count": null,
   "id": "fe935acb-00f8-4e8a-b175-f0466bb524d9",
   "metadata": {},
   "outputs": [],
   "source": [
    "%%writefile point3.py\n",
    "\n",
    "class WriteCoordinateError(Exception):\n",
    "    pass\n",
    "\n",
    "class Point:\n",
    "    def __init__(self, x, y):\n",
    "        self._x = x\n",
    "        self._y = y\n",
    "\n",
    "    @property\n",
    "    def x(self):\n",
    "        return self._x\n",
    "\n",
    "    @x.setter\n",
    "    def x(self, value):\n",
    "        raise WriteCoordinateError(\"x coordinate is read-only\")\n",
    "\n",
    "    @property\n",
    "    def y(self):\n",
    "        return self._y\n",
    "\n",
    "    @y.setter\n",
    "    def y(self, value):\n",
    "        raise WriteCoordinateError(\"y coordinate is read-only\")"
   ]
  },
  {
   "cell_type": "code",
   "execution_count": null,
   "id": "e397cf55-a159-4894-aecb-93a3756bc89d",
   "metadata": {},
   "outputs": [],
   "source": [
    "from point3 import Point"
   ]
  },
  {
   "cell_type": "code",
   "execution_count": null,
   "id": "58677cd1-4733-4e05-ae06-e143ab8daa32",
   "metadata": {},
   "outputs": [],
   "source": [
    "point3 = Point(12, 18)"
   ]
  },
  {
   "cell_type": "code",
   "execution_count": null,
   "id": "cff4950e-3657-4063-85de-207ef2eb1375",
   "metadata": {},
   "outputs": [],
   "source": [
    "point3.x = 10"
   ]
  },
  {
   "cell_type": "markdown",
   "id": "f347ace3-9ffe-4344-acc8-d52e42c19105",
   "metadata": {},
   "source": [
    "### Notes - 7\n",
    "1. [Property in Action](https://realpython.com/python-property/#putting-pythons-property-into-action)\n",
    "    - Validating Input Values"
   ]
  },
  {
   "cell_type": "code",
   "execution_count": null,
   "id": "37f7a9dc-37c2-49ef-9a19-80b35a8b6eac",
   "metadata": {},
   "outputs": [],
   "source": [
    "%%writefile point4.py\n",
    "\n",
    "class Point:\n",
    "    def __init__(self, x, y):\n",
    "        self._x = x\n",
    "        self._y = y\n",
    "        \n",
    "    @property\n",
    "    def x(self):\n",
    "        return self._x\n",
    "    \n",
    "    @x.setter\n",
    "    def x(self, value):\n",
    "        try:\n",
    "            self._x = float(value)\n",
    "            print(f\"Value of x is validated!\")\n",
    "        except ValueError:\n",
    "            raise ValueError('\"x\" must be a number') from None\n",
    "    \n",
    "    @property\n",
    "    def y(self):\n",
    "        return self._y\n",
    "    \n",
    "    @y.setter\n",
    "    def y(self, value):\n",
    "        try: \n",
    "            self._y = float(value)\n",
    "            print(f\"Value of y is validated!\")\n",
    "        except ValueError:\n",
    "            raise ValueError('\"y\" must be a number') from None"
   ]
  },
  {
   "cell_type": "code",
   "execution_count": null,
   "id": "7535797f-911b-48c6-b500-369ee2c177bf",
   "metadata": {},
   "outputs": [],
   "source": [
    "from point4 import Point"
   ]
  },
  {
   "cell_type": "code",
   "execution_count": null,
   "id": "3d528195-a1c4-463b-a097-e8ec88fa6ec4",
   "metadata": {},
   "outputs": [],
   "source": [
    "point4 = Point(12, 18)"
   ]
  },
  {
   "cell_type": "code",
   "execution_count": null,
   "id": "a11f460b-37a1-4593-b640-fd45ab024622",
   "metadata": {},
   "outputs": [],
   "source": [
    "point4.x, point4.y"
   ]
  },
  {
   "cell_type": "code",
   "execution_count": null,
   "id": "4e801e28-c1fa-4243-a8ff-1cf9524862a7",
   "metadata": {},
   "outputs": [],
   "source": [
    "point4.x = 'hundred'"
   ]
  },
  {
   "cell_type": "code",
   "execution_count": null,
   "id": "d28b2b44-e971-4733-baae-053b7da92fab",
   "metadata": {},
   "outputs": [],
   "source": [
    "%%writefile point5.py\n",
    "\n",
    "class Coordinate:\n",
    "    def __set_name__(self, owner, name):\n",
    "        self._name = name\n",
    "    \n",
    "    def __get__(self, instance, owner):\n",
    "        return instance.__dict__[self._name]\n",
    "    \n",
    "    def __set__(self, instance, value):\n",
    "        try:\n",
    "            instance.__dict__[self._name] = float(value)\n",
    "            print(f'\"Validated {self._name}\"')\n",
    "        except ValueError:\n",
    "            raise ValueError(f'{self._name} must be a string\"') from None\n",
    "\n",
    "class Point:\n",
    "    x=Coordinate()\n",
    "    y=Coordinate()\n",
    "    \n",
    "    def __init__(self, x, y):\n",
    "        self._x = x\n",
    "        self._y = y"
   ]
  },
  {
   "cell_type": "code",
   "execution_count": null,
   "id": "0790bdce-c3ff-494f-b7b3-e9faabf2b827",
   "metadata": {},
   "outputs": [],
   "source": [
    "from point5 import Point"
   ]
  },
  {
   "cell_type": "code",
   "execution_count": null,
   "id": "a504cb73-00fb-4207-ae17-2294f4f4d924",
   "metadata": {},
   "outputs": [],
   "source": [
    "point5 = Point(12, 18)"
   ]
  },
  {
   "cell_type": "markdown",
   "id": "0ead1d29-e2a5-4b1b-8ec1-b07d68420db4",
   "metadata": {},
   "source": [
    "### Notes - 8\n",
    "1. [Computed attributes](https://realpython.com/python-property/#providing-computed-attributes)\n",
    "1. If you need an attribute that builds its value dynamically whenever you access it, then property() is the way to go. \n",
    "    - These kinds of attributes are commonly known as computed attributes. \n",
    "    - They’re handy when you need them to look like eager attributes, but you want them to be lazy.\n",
    "1. [Evaluation Strategy](https://en.wikipedia.org/wiki/Evaluation_strategy)"
   ]
  },
  {
   "cell_type": "code",
   "execution_count": null,
   "id": "4822d564-5731-4f57-b3b1-49f30332384d",
   "metadata": {},
   "outputs": [],
   "source": [
    "%%writefile rectangle1.py\n",
    "\n",
    "class Rectangle1:\n",
    "    def __init__(self, width, height):\n",
    "        self.width = width\n",
    "        self.height = height\n",
    "        \n",
    "    @property\n",
    "    def area1(self):\n",
    "        return float(self.width * self.height)"
   ]
  },
  {
   "cell_type": "code",
   "execution_count": null,
   "id": "990d4c95-cdea-4f68-a612-a07a12bad322",
   "metadata": {},
   "outputs": [],
   "source": [
    "from rectangle1 import Rectangle1"
   ]
  },
  {
   "cell_type": "code",
   "execution_count": null,
   "id": "54798856-4a02-47ce-88b3-c288a1d3952d",
   "metadata": {},
   "outputs": [],
   "source": [
    "rectangle1 = Rectangle1(10, 20)"
   ]
  },
  {
   "cell_type": "code",
   "execution_count": null,
   "id": "29f0a803-494b-45dd-8a27-a24e2fefc941",
   "metadata": {},
   "outputs": [],
   "source": [
    "rectangle1.area1"
   ]
  },
  {
   "cell_type": "code",
   "execution_count": 1,
   "id": "748d03e1-4c0c-4da5-99d4-98a701182acc",
   "metadata": {},
   "outputs": [
    {
     "name": "stdout",
     "output_type": "stream",
     "text": [
      "Overwriting price.py\n"
     ]
    }
   ],
   "source": [
    "%%writefile price.py\n",
    "\n",
    "class Product:\n",
    "    def __init__(self, name, price):\n",
    "        self._name = name\n",
    "        self._price = float(price)\n",
    "        \n",
    "    @property\n",
    "    def price(self):\n",
    "        return f\"${self._price:,.2f}\""
   ]
  },
  {
   "cell_type": "code",
   "execution_count": 2,
   "id": "6cad58a8-8cda-45e7-a537-77e23db4477e",
   "metadata": {},
   "outputs": [],
   "source": [
    "from price import Product"
   ]
  },
  {
   "cell_type": "code",
   "execution_count": 5,
   "id": "46bba769-5d06-4324-8d03-1945e4506386",
   "metadata": {},
   "outputs": [],
   "source": [
    "p1 = Product('sweater', 500)"
   ]
  },
  {
   "cell_type": "code",
   "execution_count": 6,
   "id": "32ec3d93-4511-467a-bfa8-c49b97f7a45f",
   "metadata": {},
   "outputs": [
    {
     "data": {
      "text/plain": [
       "'$500.00'"
      ]
     },
     "execution_count": 6,
     "metadata": {},
     "output_type": "execute_result"
    }
   ],
   "source": [
    "p1.price"
   ]
  },
  {
   "cell_type": "code",
   "execution_count": 7,
   "id": "44aa9f18-9d8e-4e25-a8e9-96d96b9c313e",
   "metadata": {},
   "outputs": [
    {
     "name": "stdout",
     "output_type": "stream",
     "text": [
      "Writing point6.py\n"
     ]
    }
   ],
   "source": [
    "%%writefile point6.py\n",
    "\n",
    "import math\n",
    "\n",
    "class Point6:\n",
    "    def __init__(self, x, y):\n",
    "        self.x = x\n",
    "        self.y = y\n",
    "    \n",
    "    @property\n",
    "    def distance(self):\n",
    "        return round(math.dist((0, 0), (self.x, self.y)))\n",
    "    \n",
    "    @property\n",
    "    def angle(self):\n",
    "        return round(math.degrees(math.atan(self.y / self.x)), 1)\n",
    "    \n",
    "    @property\n",
    "    def as_cartesian(self):\n",
    "        return self.x, self.y\n",
    "    \n",
    "    @property\n",
    "    def as_polar(self):\n",
    "        return self.distance, self.angle\n",
    "\n",
    "        "
   ]
  },
  {
   "cell_type": "code",
   "execution_count": 8,
   "id": "4a532c1d-acb6-45d0-bd25-f1951d8ace69",
   "metadata": {},
   "outputs": [],
   "source": [
    "from point6 import Point6"
   ]
  },
  {
   "cell_type": "code",
   "execution_count": 9,
   "id": "d348f26f-adc9-4c9f-8e7d-09645a8da940",
   "metadata": {},
   "outputs": [],
   "source": [
    "p6 = Point6(12, 18)"
   ]
  },
  {
   "cell_type": "code",
   "execution_count": 10,
   "id": "84eba1cf-a04a-4e9d-a7d2-a81b62d947cc",
   "metadata": {},
   "outputs": [
    {
     "data": {
      "text/plain": [
       "(22, 56.3)"
      ]
     },
     "execution_count": 10,
     "metadata": {},
     "output_type": "execute_result"
    }
   ],
   "source": [
    "p6.as_polar"
   ]
  },
  {
   "cell_type": "markdown",
   "id": "919bf62a-022a-48b6-b7aa-1631fa56c3ef",
   "metadata": {},
   "source": [
    "#### Notes - 9\n",
    "1. [Cached Attributes](https://realpython.com/python-property/#caching-computed-attributes)\n",
    "    - cache the computed value and save it in a non-public dedicated attribute for further reuse.\n",
    "    - To prevent unexpected behaviors, you need to think of the mutability of the input data. \n",
    "        - If you have a property that computes its value from constant input values, then the result will never change.\n",
    "    \n"
   ]
  },
  {
   "cell_type": "code",
   "execution_count": null,
   "id": "1ebe6d4d-882f-4859-a13f-09fa8f101185",
   "metadata": {},
   "outputs": [],
   "source": []
  }
 ],
 "metadata": {
  "kernelspec": {
   "display_name": "Python 3 (ipykernel)",
   "language": "python",
   "name": "python3"
  },
  "language_info": {
   "codemirror_mode": {
    "name": "ipython",
    "version": 3
   },
   "file_extension": ".py",
   "mimetype": "text/x-python",
   "name": "python",
   "nbconvert_exporter": "python",
   "pygments_lexer": "ipython3",
   "version": "3.10.2"
  }
 },
 "nbformat": 4,
 "nbformat_minor": 5
}
