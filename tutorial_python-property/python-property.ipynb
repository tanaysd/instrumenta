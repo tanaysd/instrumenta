{
 "cells": [
  {
   "cell_type": "markdown",
   "id": "15271e69-bb25-4e56-9f2f-9fa38da68ddd",
   "metadata": {},
   "source": [
    "## Table of contents\n",
    "1. [Tutorial](https://realpython.com/python-property/)\n",
    "1. In this tutorial, I’ll learn how to:\n",
    "    - a. Create managed attributes or properties in your classes\n",
    "    - b. Perform lazy attribute evaluation and provide computed attributes\n",
    "    - c. Avoid setter and getter methods to make your classes more Pythonic\n",
    "    - d. Create read-only, read-write, and write-only properties\n",
    "    - e. Create consistent and backward-compatible APIs for your classes\n",
    "1. [Notes - 1](#Notes---1)\n",
    "1. [Notes - 2](#Notes---2)"
   ]
  },
  {
   "cell_type": "markdown",
   "id": "2086e327-733b-47f7-a05e-1622c5bd02df",
   "metadata": {},
   "source": [
    "### Notes - 1\n",
    "\n",
    "1. use managed attributes, also known as properties, when you need to modify their internal implementation without changing the public API of the class.\n",
    "1. Properties are arguably the most popular way to create managed attributes quickly and in the purest Pythonic style.\n",
    "1. Attributes represent or hold the internal state of a given object, which you’ll often need to access and mutate.\n",
    "1. at least two ways to manage an attribute. \n",
    "    - Either you can access and mutate the attribute directly or you can use methods. \n",
    "    - Methods are functions attached to a given class. They provide the behaviors and actions that an object can perform with its internal data and attributes.\n",
    "1. If you expose your attributes to the user, then they become part of the public API of your classes. Your user will access and mutate them directly in their code. The problem comes when you need to change the internal implementation of a given attribute.\n",
    "    - Say you’re working on a Circle class. The initial implementation has a single attribute called .radius. You finish coding the class and make it available to your end users. They start using Circle in their code to create a lot of awesome projects and applications.\n",
    "    - Now suppose that you have an important user that comes to you with a new requirement. They don’t want Circle to store the radius any longer. They need a public .diameter attribute.\n",
    "    - At this point, removing .radius to start using .diameter could break the code of some of your end users. You need to manage this situation in a way other than removing .radius.```\n",
    "1. Programming languages such as Java and C++ encourage you to never expose your attributes to avoid this kind of problem. \n",
    "    - Instead, you should provide getter and setter methods, also known as accessors and mutators, respectively. \n",
    "    - These methods offer a way to change the internal implementation of your attributes without changing your public API."
   ]
  },
  {
   "cell_type": "code",
   "execution_count": 1,
   "id": "d06d59e1-c197-4d32-bf79-1e70406b6dcb",
   "metadata": {},
   "outputs": [
    {
     "name": "stdout",
     "output_type": "stream",
     "text": [
      "Writing point.py\n"
     ]
    }
   ],
   "source": [
    "%%writefile point.py\n",
    "\n",
    "class Point:\n",
    "    def __init__(self, x, y):\n",
    "        self._x = x\n",
    "        self._y = y\n",
    "\n",
    "    def get_x(self):\n",
    "        return self._x\n",
    "\n",
    "    def set_x(self, value):\n",
    "        self._x = value\n",
    "\n",
    "    def get_y(self):\n",
    "        return self._y\n",
    "\n",
    "    def set_y(self, value):\n",
    "        self._y = value"
   ]
  },
  {
   "cell_type": "code",
   "execution_count": 14,
   "id": "c39ee753-f904-4751-9640-d1bb0ecf24cd",
   "metadata": {},
   "outputs": [],
   "source": [
    "from point import Point\n",
    "\n",
    "point = Point(12, 15)"
   ]
  },
  {
   "cell_type": "code",
   "execution_count": 15,
   "id": "139bdbdb-144b-4204-b016-e721f395135a",
   "metadata": {},
   "outputs": [
    {
     "data": {
      "text/plain": [
       "12"
      ]
     },
     "execution_count": 15,
     "metadata": {},
     "output_type": "execute_result"
    }
   ],
   "source": [
    "point.get_x()"
   ]
  },
  {
   "cell_type": "code",
   "execution_count": 16,
   "id": "395fd661-e310-4a20-a7db-4106dbe0aec2",
   "metadata": {},
   "outputs": [
    {
     "data": {
      "text/plain": [
       "15"
      ]
     },
     "execution_count": 16,
     "metadata": {},
     "output_type": "execute_result"
    }
   ],
   "source": [
    "point.set_x(15)\n",
    "\n",
    "point.get_x()"
   ]
  },
  {
   "cell_type": "code",
   "execution_count": 8,
   "id": "e81bd7ab-517b-4e95-8521-6664f9158e7d",
   "metadata": {},
   "outputs": [
    {
     "name": "stdout",
     "output_type": "stream",
     "text": [
      "Writing point1.py\n"
     ]
    }
   ],
   "source": [
    "%%writefile point1.py\n",
    "\n",
    "class Point:\n",
    "    def __init__(self, x, y):\n",
    "        self.x = x\n",
    "        self.y = y"
   ]
  },
  {
   "cell_type": "code",
   "execution_count": 18,
   "id": "f12fcc5c-a7b9-4232-8967-c4fd162cd051",
   "metadata": {},
   "outputs": [],
   "source": [
    "from point1 import Point\n",
    "\n",
    "point1 = Point(12, 18)"
   ]
  },
  {
   "cell_type": "code",
   "execution_count": 19,
   "id": "58f74a4d-a210-48fb-baae-0425cdacfae5",
   "metadata": {},
   "outputs": [
    {
     "data": {
      "text/plain": [
       "(12, 18)"
      ]
     },
     "execution_count": 19,
     "metadata": {},
     "output_type": "execute_result"
    }
   ],
   "source": [
    "point1.x, point1.y"
   ]
  },
  {
   "cell_type": "code",
   "execution_count": 20,
   "id": "afc186f4-c418-4472-a8df-043348dfccca",
   "metadata": {},
   "outputs": [
    {
     "data": {
      "text/plain": [
       "(42, 18)"
      ]
     },
     "execution_count": 20,
     "metadata": {},
     "output_type": "execute_result"
    }
   ],
   "source": [
    "point1.x = 42\n",
    "\n",
    "point1.x, point1.y"
   ]
  },
  {
   "cell_type": "markdown",
   "id": "ac864f81-47e5-42ef-aa5e-84b1f83381e5",
   "metadata": {},
   "source": [
    "### Notes - 2\n",
    "1. Exposing attributes to the end user is normal and common in Python. \n",
    "    - You don’t need to clutter your classes with getter and setter methods all the time, which sounds pretty cool! \n",
    "    - However, how can you handle requirement changes that would seem to involve API changes?\n",
    "    - Unlike Java and C++, Python provides handy tools that allow you to change the underlying implementation of your attributes without changing your public API. \n",
    "    - The most popular approach is to turn your attributes into properties.\n",
    "    - Another common approach to provide managed attributes is to use [descriptors](https://realpython.com/python-descriptors/).\n",
    "1. Properties represent an intermediate functionality between a plain attribute (or field) and a method. \n",
    "    - In other words, they allow you to create methods that behave like attributes. \n",
    "    - With properties, computation of the target attribute can be changed as required."
   ]
  },
  {
   "cell_type": "code",
   "execution_count": null,
   "id": "0eb8736a-59b5-4653-873d-c7a8b93ca703",
   "metadata": {},
   "outputs": [],
   "source": []
  }
 ],
 "metadata": {
  "kernelspec": {
   "display_name": "Python 3 (ipykernel)",
   "language": "python",
   "name": "python3"
  },
  "language_info": {
   "codemirror_mode": {
    "name": "ipython",
    "version": 3
   },
   "file_extension": ".py",
   "mimetype": "text/x-python",
   "name": "python",
   "nbconvert_exporter": "python",
   "pygments_lexer": "ipython3",
   "version": "3.10.2"
  }
 },
 "nbformat": 4,
 "nbformat_minor": 5
}
